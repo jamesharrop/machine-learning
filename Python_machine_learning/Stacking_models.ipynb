{
 "cells": [
  {
   "cell_type": "markdown",
   "metadata": {},
   "source": [
    "## Stacking a Light GBM model and a simple neural network"
   ]
  },
  {
   "cell_type": "code",
   "execution_count": 1,
   "metadata": {
    "collapsed": true
   },
   "outputs": [],
   "source": [
    "# Imports\n",
    "import numpy as np\n",
    "import pandas as pd\n",
    "import sys\n",
    "import time\n",
    "import lightgbm as lgb\n",
    "import json\n",
    "from random import uniform, randint\n",
    "from sklearn.preprocessing import Imputer\n",
    "from sklearn.model_selection import train_test_split\n",
    "from sklearn.utils import shuffle\n",
    "from sklearn.metrics import log_loss\n",
    "from sklearn.model_selection import cross_val_score, cross_val_predict\n",
    "from sklearn.model_selection import StratifiedKFold\n",
    "from sklearn.neural_network import MLPClassifier\n",
    "from sklearn.preprocessing import StandardScaler  "
   ]
  },
  {
   "cell_type": "code",
   "execution_count": 2,
   "metadata": {
    "collapsed": false
   },
   "outputs": [
    {
     "name": "stdout",
     "output_type": "stream",
     "text": [
      "Reading in data... done\n"
     ]
    }
   ],
   "source": [
    "# Read in data and separate out target data into y\n",
    "\n",
    "print \"Reading in data...\",\n",
    "train = pd.read_csv('../train.csv')\n",
    "test = pd.read_csv('../test.csv')\n",
    "sample = pd.read_csv('../sample_submission.csv')\n",
    "y = train.target\n",
    "train.drop(['target'], axis=1, inplace=True)\n",
    "print(\"done\")"
   ]
  },
  {
   "cell_type": "code",
   "execution_count": 3,
   "metadata": {
    "collapsed": true
   },
   "outputs": [],
   "source": [
    "# Prepare for stacking: create additional columns in dataframes\n",
    "\n",
    "train_meta = train.copy()\n",
    "test_meta = test.copy()\n",
    "train_meta['M1'] = 0\n",
    "train_meta['M2'] = 0\n",
    "test_meta['M1'] = 0\n",
    "test_meta['M2'] = 0"
   ]
  },
  {
   "cell_type": "code",
   "execution_count": 5,
   "metadata": {
    "collapsed": false
   },
   "outputs": [
    {
     "name": "stdout",
     "output_type": "stream",
     "text": [
      "Start stacking: Fold 0 ,  Fold 1 ,  Fold 2 ,  Fold 3 ,  Fold 4 ,  Cross validation took 228.8 seconds\n",
      "Mean cross-validation GBM log_loss score with 5 folds is 0.152113\n",
      "Mean cross-validation NN log_loss score with 5 folds is 0.152923\n",
      "Mean cross-validation mean(GBM,NN) log_loss score with 5 folds is 0.152160\n"
     ]
    }
   ],
   "source": [
    "# Stacking\n",
    "print \"Start stacking:\",\n",
    "start_time=time.time()\n",
    "kf=StratifiedKFold(n_splits=5, shuffle=True, random_state=2017)\n",
    "\n",
    "gbm_cv_score = []\n",
    "nn_cv_score = []\n",
    "mean_cv_score = []\n",
    "\n",
    "for i, (train_index, val_index) in enumerate(kf.split(train, y)):\n",
    "    print \"Fold\",i,\", \",\n",
    "    x_train_kf = train.loc[train_index, :]\n",
    "    x_val_kf = train.loc[val_index, :]\n",
    "    y_train_kf, y_val_kf = y[train_index], y[val_index]\n",
    "\n",
    "    # LightGBM\n",
    "    lgb_train = lgb.Dataset(x_train_kf, y_train_kf)\n",
    "    lgb_eval = lgb.Dataset(x_val_kf, y_val_kf, reference=lgb_train)\n",
    "\n",
    "    params = {\n",
    "        'task': 'train',\n",
    "        'metric': {'l2','auc'},    \n",
    "    }\n",
    "    gbm = lgb.train(params,\n",
    "                    lgb_train,\n",
    "                    valid_sets=lgb_eval,\n",
    "                    verbose_eval=False\n",
    "                   )\n",
    "\n",
    "    gbm_val_pred = gbm.predict(x_val_kf, num_iteration=gbm.best_iteration)\n",
    "    \n",
    "    train_meta.iloc[val_index, train_meta.columns.get_loc('M1')] = gbm_val_pred\n",
    "    \n",
    "    kf_gbm_log_loss = log_loss(y_val_kf.values, gbm_val_pred, labels=[0,1])\n",
    "    gbm_cv_score.append(kf_gbm_log_loss)\n",
    "    \n",
    "    # Neural net\n",
    "    clf = MLPClassifier(solver='lbfgs', alpha=1e-5,\n",
    "                        hidden_layer_sizes=(4, 2), random_state=1)\n",
    "    scaler = StandardScaler()  \n",
    "    scaler.fit(x_train_kf)\n",
    "    x_train_scaled = scaler.transform(x_train_kf)  \n",
    "    x_val_scaled = scaler.transform(x_val_kf)  \n",
    "\n",
    "    clf.fit(x_train_scaled, y_train_kf)\n",
    "\n",
    "    nn_val_pred = clf.predict_proba(x_val_scaled)\n",
    "\n",
    "    train_meta.iloc[val_index, train_meta.columns.get_loc('M2')] = nn_val_pred[:,1]\n",
    "    \n",
    "    nn_log_loss = log_loss(y_val_kf, nn_val_pred)\n",
    "    nn_cv_score.append(nn_log_loss)\n",
    "    \n",
    "    # Mean\n",
    "    kf_mean_output = np.mean([nn_val_pred[:,1], gbm_val_pred], axis=0)\n",
    "    mean_log_loss = log_loss(y_val_kf, kf_mean_output)\n",
    "    mean_cv_score.append(mean_log_loss)\n",
    "\n",
    "end_time = time.time()\n",
    "print(\"Cross validation took %.1f seconds\" % (end_time - start_time))\n",
    "print('Mean cross-validation GBM log_loss score with {} folds is {:.6f}'.format(i+1, np.mean(gbm_cv_score)))\n",
    "print('Mean cross-validation NN log_loss score with {} folds is {:.6f}'.format(i+1, np.mean(nn_cv_score)))\n",
    "print('Mean cross-validation mean(GBM,NN) log_loss score with {} folds is {:.6f}'.format(i+1, np.mean(mean_cv_score)))"
   ]
  },
  {
   "cell_type": "code",
   "execution_count": 6,
   "metadata": {
    "collapsed": false
   },
   "outputs": [],
   "source": [
    "# Make predictions on the test data \n",
    "gbm_test_pred = gbm.predict(test, num_iteration=gbm.best_iteration)\n",
    "test_meta.iloc[:, test_meta.columns.get_loc('M1')] = gbm_test_pred\n",
    "\n",
    "test_scaled = scaler.transform(test)  \n",
    "nn_test_pred = clf.predict_proba(test_scaled)\n",
    "test_meta.iloc[:, test_meta.columns.get_loc('M2')] = nn_test_pred[:,1]"
   ]
  },
  {
   "cell_type": "code",
   "execution_count": 7,
   "metadata": {
    "collapsed": false
   },
   "outputs": [],
   "source": []
  },
  {
   "cell_type": "code",
   "execution_count": 8,
   "metadata": {
    "collapsed": false
   },
   "outputs": [],
   "source": [
    "# Fit the stacking model to train_meta, using M1 and M2 as features.\n",
    "\n",
    "train_meta_2 = train_meta[[\"M1\",\"M2\"]]\n",
    "\n",
    "x_train, x_val, y_train, y_val = train_test_split(\n",
    "    train_meta_2, y, test_size=0.2, random_state=2017)\n",
    "\n",
    "lgb_train = lgb.Dataset(x_train, y_train)\n",
    "lgb_eval = lgb.Dataset(x_val, y_val, reference=lgb_train)\n",
    "\n",
    "params = {\n",
    "    'task': 'train',\n",
    "    'metric': {'l2','auc'},    \n",
    "}\n",
    "gbm = lgb.train(params,\n",
    "                lgb_train,\n",
    "                valid_sets=lgb_eval,\n",
    "                verbose_eval=False\n",
    "               )\n",
    "\n",
    "gbm_test_pred = gbm.predict(test_meta, num_iteration=gbm.best_iteration)"
   ]
  },
  {
   "cell_type": "code",
   "execution_count": 13,
   "metadata": {
    "collapsed": true
   },
   "outputs": [],
   "source": [
    "# Write out results to file\n",
    "submission=sample.copy()\n",
    "submission.target=gbm_test_pred\n",
    "submission.to_csv('6.csv.gz', compression='gzip', index=False)"
   ]
  }
 ],
 "metadata": {
  "kernelspec": {
   "display_name": "Python 2",
   "language": "python",
   "name": "python2"
  },
  "language_info": {
   "codemirror_mode": {
    "name": "ipython",
    "version": 2
   },
   "file_extension": ".py",
   "mimetype": "text/x-python",
   "name": "python",
   "nbconvert_exporter": "python",
   "pygments_lexer": "ipython2",
   "version": "2.7.12"
  }
 },
 "nbformat": 4,
 "nbformat_minor": 0
}
